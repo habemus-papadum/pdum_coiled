{
 "cells": [
  {
   "cell_type": "code",
   "execution_count": 1,
   "id": "559fa064",
   "metadata": {},
   "outputs": [],
   "source": [
    "%load_ext autoreload\n",
    "%autoreload 2"
   ]
  },
  {
   "cell_type": "code",
   "execution_count": 2,
   "id": "855dc01d",
   "metadata": {},
   "outputs": [],
   "source": [
    "from pdum.coiled import project_tarball"
   ]
  },
  {
   "cell_type": "code",
   "execution_count": 3,
   "id": "3cf60ab1",
   "metadata": {},
   "outputs": [],
   "source": [
    "b = project_tarball()"
   ]
  },
  {
   "cell_type": "code",
   "execution_count": 4,
   "id": "6d271ee9",
   "metadata": {},
   "outputs": [],
   "source": [
    "with open(\"demo.tar.gz\", \"wb\") as f:\n",
    "    f.write(b)"
   ]
  },
  {
   "cell_type": "code",
   "execution_count": 5,
   "id": "1db435e0",
   "metadata": {},
   "outputs": [
    {
     "name": "stdout",
     "output_type": "stream",
     "text": [
      "demo.ipynb\n",
      "src/pdum/coiled/fs/__init__.py\n",
      "src/pdum/coiled/tar/__init__.py\n",
      ".env.vscode\n",
      ".github/workflows/ci.yml\n",
      ".github/workflows/docs.yml\n",
      ".gitignore\n",
      ".npmrc\n",
      ".pnpm-approvals.yaml\n",
      ".pre-commit-config.yaml\n",
      ".python-version\n",
      ".vscode/settings.json\n",
      "AGENTS.md\n",
      "LICENSE\n",
      "README.md\n",
      "docs/demos/.gitignore\n",
      "docs/demos/.gitkeep\n",
      "docs/demos/README.md\n",
      "docs/demos/topics/README.md\n",
      "docs/index.md\n",
      "docs/reference.md\n",
      "mkdocs.yml\n",
      "package.json\n",
      "pnpm-lock.yaml\n",
      "pnpm-workspace.yaml\n",
      "pyproject.toml\n",
      "sample.py\n",
      "scripts/build.sh\n",
      "scripts/nb.sh\n",
      "scripts/pre-release.sh\n",
      "scripts/publish.sh\n",
      "scripts/release.sh\n",
      "scripts/setup-visual-tests.sh\n",
      "scripts/setup.sh\n",
      "scripts/test_notebooks.sh\n",
      "src/pdum/__init__.py\n",
      "src/pdum/coiled/__init__.py\n",
      "src/pdum/coiled/py.typed\n",
      "src/pdum/coiled/widgets/__init__.py\n",
      "src/pdum/coiled/widgets/index.js\n",
      "src/pdum/coiled/widgets/renderer.py\n",
      "src/pdum/coiled/widgets/utils.py\n",
      "src/pdum/coiled/widgets/widget.py\n",
      "tests/__init__.py\n",
      "tests/test_example.py\n",
      "uv.lock\n",
      "widgets/.gitignore\n",
      "widgets/build.js\n",
      "widgets/eslint.config.js\n",
      "widgets/package.json\n",
      "widgets/src/index-iife.ts\n",
      "widgets/src/index.test.ts\n",
      "widgets/src/index.ts\n",
      "widgets/src/styles.css\n",
      "widgets/src/types.ts\n",
      "widgets/src/version.ts\n",
      "widgets/src/widget.ts\n",
      "widgets/test-fixtures/.gitkeep\n",
      "widgets/tsconfig.json\n",
      "widgets/vitest.config.ts\n"
     ]
    }
   ],
   "source": [
    "!tar -tzf demo.tar.gz"
   ]
  },
  {
   "cell_type": "code",
   "execution_count": 6,
   "id": "df889bdb",
   "metadata": {},
   "outputs": [],
   "source": [
    "import coiled"
   ]
  },
  {
   "cell_type": "code",
   "execution_count": 7,
   "id": "0c4cb861",
   "metadata": {},
   "outputs": [
    {
     "data": {
      "application/vnd.jupyter.widget-view+json": {
       "model_id": "a3476437d8fc4eb89c584ef594a3de27",
       "version_major": 2,
       "version_minor": 0
      },
      "text/plain": [
       "Output()"
      ]
     },
     "metadata": {},
     "output_type": "display_data"
    },
    {
     "data": {
      "text/html": [
       "<pre style=\"white-space:pre;overflow-x:auto;line-height:normal;font-family:Menlo,'DejaVu Sans Mono',consolas,'Courier New',monospace\"></pre>\n"
      ],
      "text/plain": []
     },
     "metadata": {},
     "output_type": "display_data"
    },
    {
     "data": {
      "text/html": [
       "<pre style=\"white-space:pre;overflow-x:auto;line-height:normal;font-family:Menlo,'DejaVu Sans Mono',consolas,'Courier New',monospace\">╭──────────────────────────────── <span style=\"color: #008000; text-decoration-color: #008000; font-weight: bold\">Package Info</span> ────────────────────────────────╮\n",
       "│                           ╷                                                  │\n",
       "│  <span style=\"font-weight: bold\"> Package                 </span>│<span style=\"font-weight: bold\"> Note                                           </span>  │\n",
       "│ ╶─────────────────────────┼────────────────────────────────────────────────╴ │\n",
       "│   coiled_local_src        │ Source wheel built from ~/src/pdum_coiled/src    │\n",
       "│   habemus-papadum-coiled  │ Wheel built from ~/src/pdum_coiled               │\n",
       "│                           ╵                                                  │\n",
       "╰──────────────────────────────────────────────────────────────────────────────╯\n",
       "</pre>\n"
      ],
      "text/plain": [
       "╭──────────────────────────────── \u001b[1;32mPackage Info\u001b[0m ────────────────────────────────╮\n",
       "│                           ╷                                                  │\n",
       "│  \u001b[1m \u001b[0m\u001b[1mPackage                \u001b[0m\u001b[1m \u001b[0m│\u001b[1m \u001b[0m\u001b[1mNote                                          \u001b[0m\u001b[1m \u001b[0m  │\n",
       "│ ╶─────────────────────────┼────────────────────────────────────────────────╴ │\n",
       "│   coiled_local_src        │ Source wheel built from ~/src/pdum_coiled/src    │\n",
       "│   habemus-papadum-coiled  │ Wheel built from ~/src/pdum_coiled               │\n",
       "│                           ╵                                                  │\n",
       "╰──────────────────────────────────────────────────────────────────────────────╯\n"
      ]
     },
     "metadata": {},
     "output_type": "display_data"
    },
    {
     "data": {
      "text/html": [
       "<pre style=\"white-space:pre;overflow-x:auto;line-height:normal;font-family:Menlo,'DejaVu Sans Mono',consolas,'Courier New',monospace\">╭──────────────────────────────── Coiled Batch ────────────────────────────────╮\n",
       "│                                                                              │\n",
       "│ <span style=\"font-weight: bold\">Command</span>:     <span style=\"color: #0000ff; text-decoration-color: #0000ff\">echo \"Hello from Coiled!\"</span>                                       │\n",
       "│ <span style=\"font-weight: bold\">Cluster ID</span>:  <span style=\"color: #0000ff; text-decoration-color: #0000ff\">1231456</span>                                                         │\n",
       "│ <span style=\"font-weight: bold\">URL</span>:         <span style=\"color: #0000ff; text-decoration-color: #0000ff\">https://cloud.coiled.io/clusters/1231456</span>                        │\n",
       "│ <span style=\"font-weight: bold\">Tasks</span>:       <span style=\"color: #0000ff; text-decoration-color: #0000ff\">1</span>                                                               │\n",
       "│                                                                              │\n",
       "│                                                                              │\n",
       "│ To track progress run:                                                       │\n",
       "│                                                                              │\n",
       "│   <span style=\"color: #008000; text-decoration-color: #008000\">coiled.batch.status(1231456)</span>                                               │\n",
       "│                                                                              │\n",
       "╰──────────────────────────────────────────────────────────────────────────────╯\n",
       "</pre>\n"
      ],
      "text/plain": [
       "╭──────────────────────────────── Coiled Batch ────────────────────────────────╮\n",
       "│                                                                              │\n",
       "│ \u001b[1mCommand\u001b[0m:     \u001b[94mecho \"Hello from Coiled!\"\u001b[0m                                       │\n",
       "│ \u001b[1mCluster ID\u001b[0m:  \u001b[94m1231456\u001b[0m                                                         │\n",
       "│ \u001b[1mURL\u001b[0m:         \u001b[94mhttps://cloud.coiled.io/clusters/1231456\u001b[0m                        │\n",
       "│ \u001b[1mTasks\u001b[0m:       \u001b[94m1\u001b[0m                                                               │\n",
       "│                                                                              │\n",
       "│                                                                              │\n",
       "│ To track progress run:                                                       │\n",
       "│                                                                              │\n",
       "│   \u001b[32mcoiled.batch.status(1231456)\u001b[0m                                               │\n",
       "│                                                                              │\n",
       "╰──────────────────────────────────────────────────────────────────────────────╯\n"
      ]
     },
     "metadata": {},
     "output_type": "display_data"
    },
    {
     "data": {
      "text/plain": [
       "{'cluster_id': 1231456, 'cluster_name': 'simple', 'job_id': 132984}"
      ]
     },
     "execution_count": 7,
     "metadata": {},
     "output_type": "execute_result"
    }
   ],
   "source": [
    "coiled.batch.run(\"echo 'Hello from Coiled!'\", name=\"simple\")"
   ]
  },
  {
   "cell_type": "code",
   "execution_count": null,
   "id": "11c1c57b",
   "metadata": {},
   "outputs": [],
   "source": [
    "host = \"\"\"\n",
    "tar xvzf src.tar.gz\n",
    "uv sync --frozen\n",
    "\n",
    "\"\"\"\n",
    "\n",
    "cmd = f\"\"\"\n",
    "source .venv/bin/activate\n",
    "python demo.oy\n",
    "\n",
    "\"\"\""
   ]
  },
  {
   "cell_type": "code",
   "execution_count": 9,
   "id": "1598921c",
   "metadata": {},
   "outputs": [
    {
     "name": "stdout",
     "output_type": "stream",
     "text": [
      "--- Logs from remote build follow ---\n",
      "[2025-10-28 19:43:53,853][INFO    ][cloud-env.build] Ensuring tmpdir /opt/coiled/tmp exists\n",
      "[2025-10-28 19:43:53,853][INFO    ][cloud-env.build] Downloading environment definition\n",
      "[2025-10-28 19:43:53,984][INFO    ][cloud-env.build] Installing environment.yml: \n",
      "channel_priority: strict\n",
      "channels:\n",
      "- https://conda.anaconda.org/conda-forge\n",
      "dependencies:\n",
      "- python\n",
      "[2025-10-28 19:43:53,984][INFO    ][cloud-env.subproc] /opt/conda/bin/micromamba create -f /tmp/tmphh51ku5t.yml -r /opt/coiled/rt -p /opt/coiled/env -y --no-pyc\n",
      "--- Logs end, may be truncated, see https://cloud.coiled.io/software/alias/176916/build/171905?account=gr-agentic&tab=logs for full output ---\n"
     ]
    },
    {
     "data": {
      "text/plain": [
       "{'id': 176916,\n",
       " 'created': '2025-10-28T19:43:17.492350+00:00',\n",
       " 'updated': '2025-10-28T19:43:50.676702+00:00',\n",
       " 'name': 'minimal',\n",
       " 'spec_count': 2,\n",
       " 'account_slug': 'gr-agentic',\n",
       " 'latest_spec': {'id': 183924,\n",
       "  'created': '2025-10-28T19:43:50.669824+00:00',\n",
       "  'updated': '2025-10-28T19:43:50.694158+00:00',\n",
       "  'md5': 'ee9b6a2420bb2c38fd38d92446128f06',\n",
       "  'gpu_enabled': False,\n",
       "  'latest_build': {'id': 171905,\n",
       "   'created': '2025-10-28T19:43:50.681220+00:00',\n",
       "   'updated': '2025-10-28T19:43:50.690495+00:00',\n",
       "   'state': 'queued',\n",
       "   'reason': 'Pending'},\n",
       "  'container_uri': None,\n",
       "  'architecture': 'x86_64'}}"
      ]
     },
     "execution_count": 9,
     "metadata": {},
     "output_type": "execute_result"
    }
   ],
   "source": [
    "coiled.create_software_environment(\n",
    "    name=\"minimal\",\n",
    "    conda={\n",
    "        \"channels\": [\"conda-forge\"],\n",
    "        \"dependencies\": [\"python\"],\n",
    "    },\n",
    "    pip=[],\n",
    ")\n"
   ]
  },
  {
   "cell_type": "code",
   "execution_count": 10,
   "id": "d961175a",
   "metadata": {},
   "outputs": [
    {
     "data": {
      "text/html": [
       "<pre style=\"white-space:pre;overflow-x:auto;line-height:normal;font-family:Menlo,'DejaVu Sans Mono',consolas,'Courier New',monospace\">╭──────────────────────────────── Coiled Batch ────────────────────────────────╮\n",
       "│                                                                              │\n",
       "│ <span style=\"font-weight: bold\">Command</span>:     <span style=\"color: #0000ff; text-decoration-color: #0000ff\">echo \"Hello from Coiled!\"</span>                                       │\n",
       "│ <span style=\"font-weight: bold\">Cluster ID</span>:  <span style=\"color: #0000ff; text-decoration-color: #0000ff\">1231465</span>                                                         │\n",
       "│ <span style=\"font-weight: bold\">URL</span>:         <span style=\"color: #0000ff; text-decoration-color: #0000ff\">https://cloud.coiled.io/clusters/1231465</span>                        │\n",
       "│ <span style=\"font-weight: bold\">Tasks</span>:       <span style=\"color: #0000ff; text-decoration-color: #0000ff\">1</span>                                                               │\n",
       "│                                                                              │\n",
       "│                                                                              │\n",
       "│ To track progress run:                                                       │\n",
       "│                                                                              │\n",
       "│   <span style=\"color: #008000; text-decoration-color: #008000\">coiled.batch.status(1231465)</span>                                               │\n",
       "│                                                                              │\n",
       "╰──────────────────────────────────────────────────────────────────────────────╯\n",
       "</pre>\n"
      ],
      "text/plain": [
       "╭──────────────────────────────── Coiled Batch ────────────────────────────────╮\n",
       "│                                                                              │\n",
       "│ \u001b[1mCommand\u001b[0m:     \u001b[94mecho \"Hello from Coiled!\"\u001b[0m                                       │\n",
       "│ \u001b[1mCluster ID\u001b[0m:  \u001b[94m1231465\u001b[0m                                                         │\n",
       "│ \u001b[1mURL\u001b[0m:         \u001b[94mhttps://cloud.coiled.io/clusters/1231465\u001b[0m                        │\n",
       "│ \u001b[1mTasks\u001b[0m:       \u001b[94m1\u001b[0m                                                               │\n",
       "│                                                                              │\n",
       "│                                                                              │\n",
       "│ To track progress run:                                                       │\n",
       "│                                                                              │\n",
       "│   \u001b[32mcoiled.batch.status(1231465)\u001b[0m                                               │\n",
       "│                                                                              │\n",
       "╰──────────────────────────────────────────────────────────────────────────────╯\n"
      ]
     },
     "metadata": {},
     "output_type": "display_data"
    },
    {
     "data": {
      "text/plain": [
       "{'cluster_id': 1231465, 'cluster_name': 'simple', 'job_id': 132985}"
      ]
     },
     "execution_count": 10,
     "metadata": {},
     "output_type": "execute_result"
    }
   ],
   "source": [
    "coiled.batch.run(\"echo 'Hello from Coiled!'\", name=\"simple\", software=\"minimal\")\n"
   ]
  },
  {
   "cell_type": "code",
   "execution_count": 11,
   "id": "ef7d0f56",
   "metadata": {},
   "outputs": [
    {
     "data": {
      "text/plain": [
       "[{'id': 132985,\n",
       "  'state': 'queued',\n",
       "  'created': '2025-10-28T19:45:07.325418+00:00',\n",
       "  'started': None,\n",
       "  'completed': None,\n",
       "  'cluster_id': 1231465,\n",
       "  'cluster_state': 'scaling',\n",
       "  'container': 'coiled/cloud-env-run:pre-pulled',\n",
       "  'user_command': 'echo \"Hello from Coiled!\"',\n",
       "  'command': 'docker exec  --workdir /scratch/batch  --env COILED_CLUSTER_ID --env COILED_CLUSTER_HOSTNAME --env COILED_INTERNAL_DASK_SCHEDULER_ADDRESS --env COILED_JOB_ID --env COILED_ARRAY_TASK_ID --env COILED_BATCH_TASK_ID --env COILED_BATCH_TASK_COUNT --env COILED_BATCH_TASK_OUTPUT_DIR --env COILED_BATCH_SCHEDULER_ADDRESS --env COILED_BATCH_LOCAL_ADDRESS --env COILED_BATCH_READY_WORKERS --env COILED_BATCH_PROCESS_TYPE --env DASK_COILED__SOFTWARE --env DASK_COILED__SOFTWARE_IS_GPU_CLUSTER  tmp-dask-1 micromamba run -p /opt/coiled/env bash /scratch/batch/coiled-batch-job-script-tee.sh',\n",
       "  'tasks': [{'id': 1661017,\n",
       "    'array_task_id': 0,\n",
       "    'assigned_to_id': None,\n",
       "    'assigned_to': None,\n",
       "    'state': 'pending',\n",
       "    'exit_code': None,\n",
       "    'start': None,\n",
       "    'stop': None}],\n",
       "  'env_vars': {}}]"
      ]
     },
     "execution_count": 11,
     "metadata": {},
     "output_type": "execute_result"
    }
   ],
   "source": [
    "coiled.batch.status(1231465)\n"
   ]
  },
  {
   "cell_type": "code",
   "execution_count": null,
   "id": "7e2e2484",
   "metadata": {},
   "outputs": [],
   "source": [
    "coiled.batch.run(\"echo 'Hello from Coiled!'\", name=\"simple\", software=\"minimal\")\n"
   ]
  },
  {
   "cell_type": "code",
   "execution_count": 14,
   "id": "d70adbe8",
   "metadata": {},
   "outputs": [
    {
     "data": {
      "text/html": [
       "<pre style=\"white-space:pre;overflow-x:auto;line-height:normal;font-family:Menlo,'DejaVu Sans Mono',consolas,'Courier New',monospace\">╭──────────────────────────────── Coiled Batch ────────────────────────────────╮\n",
       "│                                                                              │\n",
       "│ <span style=\"font-weight: bold\">Command</span>:     <span style=\"color: #0000ff; text-decoration-color: #0000ff\">echo \"Hello from Coiled!\"</span>                                       │\n",
       "│ <span style=\"font-weight: bold\">Cluster ID</span>:  <span style=\"color: #0000ff; text-decoration-color: #0000ff\">1231473</span>                                                         │\n",
       "│ <span style=\"font-weight: bold\">URL</span>:         <span style=\"color: #0000ff; text-decoration-color: #0000ff\">https://cloud.coiled.io/clusters/1231473</span>                        │\n",
       "│ <span style=\"font-weight: bold\">Tasks</span>:       <span style=\"color: #0000ff; text-decoration-color: #0000ff\">1</span>                                                               │\n",
       "│                                                                              │\n",
       "│                                                                              │\n",
       "│ To track progress run:                                                       │\n",
       "│                                                                              │\n",
       "│   <span style=\"color: #008000; text-decoration-color: #008000\">coiled.batch.status(1231473)</span>                                               │\n",
       "│                                                                              │\n",
       "╰──────────────────────────────────────────────────────────────────────────────╯\n",
       "</pre>\n"
      ],
      "text/plain": [
       "╭──────────────────────────────── Coiled Batch ────────────────────────────────╮\n",
       "│                                                                              │\n",
       "│ \u001b[1mCommand\u001b[0m:     \u001b[94mecho \"Hello from Coiled!\"\u001b[0m                                       │\n",
       "│ \u001b[1mCluster ID\u001b[0m:  \u001b[94m1231473\u001b[0m                                                         │\n",
       "│ \u001b[1mURL\u001b[0m:         \u001b[94mhttps://cloud.coiled.io/clusters/1231473\u001b[0m                        │\n",
       "│ \u001b[1mTasks\u001b[0m:       \u001b[94m1\u001b[0m                                                               │\n",
       "│                                                                              │\n",
       "│                                                                              │\n",
       "│ To track progress run:                                                       │\n",
       "│                                                                              │\n",
       "│   \u001b[32mcoiled.batch.status(1231473)\u001b[0m                                               │\n",
       "│                                                                              │\n",
       "╰──────────────────────────────────────────────────────────────────────────────╯\n"
      ]
     },
     "metadata": {},
     "output_type": "display_data"
    },
    {
     "data": {
      "text/plain": [
       "{'cluster_id': 1231473, 'cluster_name': 'simple2', 'job_id': 132989}"
      ]
     },
     "execution_count": 14,
     "metadata": {},
     "output_type": "execute_result"
    }
   ],
   "source": [
    "coiled.batch.run(\"echo 'Hello from Coiled!'\", name=\"simple2\", software=\"minimal\", run_on_host=True)\n"
   ]
  },
  {
   "cell_type": "code",
   "execution_count": 15,
   "id": "f27c37df",
   "metadata": {},
   "outputs": [
    {
     "data": {
      "text/html": [
       "<pre style=\"white-space:pre;overflow-x:auto;line-height:normal;font-family:Menlo,'DejaVu Sans Mono',consolas,'Courier New',monospace\">╭──────────────────────────────── Coiled Batch ────────────────────────────────╮\n",
       "│                                                                              │\n",
       "│ <span style=\"font-weight: bold\">Command</span>:     <span style=\"color: #0000ff; text-decoration-color: #0000ff\">echo \"Hello from Coiled!\"</span>                                       │\n",
       "│ <span style=\"font-weight: bold\">Cluster ID</span>:  <span style=\"color: #0000ff; text-decoration-color: #0000ff\">1231474</span>                                                         │\n",
       "│ <span style=\"font-weight: bold\">URL</span>:         <span style=\"color: #0000ff; text-decoration-color: #0000ff\">https://cloud.coiled.io/clusters/1231474</span>                        │\n",
       "│ <span style=\"font-weight: bold\">Tasks</span>:       <span style=\"color: #0000ff; text-decoration-color: #0000ff\">1</span>                                                               │\n",
       "│                                                                              │\n",
       "│                                                                              │\n",
       "│ To track progress run:                                                       │\n",
       "│                                                                              │\n",
       "│   <span style=\"color: #008000; text-decoration-color: #008000\">coiled.batch.status(1231474)</span>                                               │\n",
       "│                                                                              │\n",
       "╰──────────────────────────────────────────────────────────────────────────────╯\n",
       "</pre>\n"
      ],
      "text/plain": [
       "╭──────────────────────────────── Coiled Batch ────────────────────────────────╮\n",
       "│                                                                              │\n",
       "│ \u001b[1mCommand\u001b[0m:     \u001b[94mecho \"Hello from Coiled!\"\u001b[0m                                       │\n",
       "│ \u001b[1mCluster ID\u001b[0m:  \u001b[94m1231474\u001b[0m                                                         │\n",
       "│ \u001b[1mURL\u001b[0m:         \u001b[94mhttps://cloud.coiled.io/clusters/1231474\u001b[0m                        │\n",
       "│ \u001b[1mTasks\u001b[0m:       \u001b[94m1\u001b[0m                                                               │\n",
       "│                                                                              │\n",
       "│                                                                              │\n",
       "│ To track progress run:                                                       │\n",
       "│                                                                              │\n",
       "│   \u001b[32mcoiled.batch.status(1231474)\u001b[0m                                               │\n",
       "│                                                                              │\n",
       "╰──────────────────────────────────────────────────────────────────────────────╯\n"
      ]
     },
     "metadata": {},
     "output_type": "display_data"
    },
    {
     "data": {
      "text/plain": [
       "{'cluster_id': 1231474, 'cluster_name': 'simple3', 'job_id': 132990}"
      ]
     },
     "execution_count": 15,
     "metadata": {},
     "output_type": "execute_result"
    }
   ],
   "source": [
    "coiled.batch.run(\"echo 'Hello from Coiled!'\", name=\"simple3\", run_on_host=True)\n"
   ]
  },
  {
   "cell_type": "code",
   "execution_count": 34,
   "id": "bc37aa91",
   "metadata": {},
   "outputs": [],
   "source": [
    "b = project_tarball(gzipped=True) # tarball as a bytes object\n",
    "\n",
    "host = \"\"\"#! /bin/bash\n",
    "curl -LsSf https://astral.sh/uv/install.sh |  env UV_UNMANAGED_INSTALL=\"/usr/local/bin\" sh\n",
    "\n",
    "cd /scratch/batch\n",
    "tar xvf src.tar.gz\n",
    "uv sync --frozen\n",
    "\n",
    "\"\"\"\n",
    "\n",
    "cmd = \"\"\"#! /bin/bash\n",
    "\n",
    "source .venv/bin/activate\n",
    "uv run python demo.py\n",
    "\"\"\"\n"
   ]
  },
  {
   "cell_type": "code",
   "execution_count": 32,
   "id": "2ba7e8a9",
   "metadata": {},
   "outputs": [],
   "source": [
    "import io"
   ]
  },
  {
   "cell_type": "code",
   "execution_count": 35,
   "id": "a0c03091",
   "metadata": {},
   "outputs": [
    {
     "data": {
      "application/vnd.jupyter.widget-view+json": {
       "model_id": "550631c67a9d4e77922440b37c29efc1",
       "version_major": 2,
       "version_minor": 0
      },
      "text/plain": [
       "Output()"
      ]
     },
     "metadata": {},
     "output_type": "display_data"
    },
    {
     "data": {
      "text/html": [
       "<pre style=\"white-space:pre;overflow-x:auto;line-height:normal;font-family:Menlo,'DejaVu Sans Mono',consolas,'Courier New',monospace\"></pre>\n"
      ],
      "text/plain": []
     },
     "metadata": {},
     "output_type": "display_data"
    },
    {
     "data": {
      "text/html": [
       "<pre style=\"white-space:pre;overflow-x:auto;line-height:normal;font-family:Menlo,'DejaVu Sans Mono',consolas,'Courier New',monospace\">╭──────────────────────────────── Coiled Batch ────────────────────────────────╮\n",
       "│                                                                              │\n",
       "│ <span style=\"font-weight: bold\">Command</span>:     <span style=\"color: #0000ff; text-decoration-color: #0000ff\">script</span>                                                          │\n",
       "│ <span style=\"font-weight: bold\">Cluster ID</span>:  <span style=\"color: #0000ff; text-decoration-color: #0000ff\">1231532</span>                                                         │\n",
       "│ <span style=\"font-weight: bold\">URL</span>:         <span style=\"color: #0000ff; text-decoration-color: #0000ff\">https://cloud.coiled.io/clusters/1231532</span>                        │\n",
       "│ <span style=\"font-weight: bold\">Tasks</span>:       <span style=\"color: #0000ff; text-decoration-color: #0000ff\">1</span>                                                               │\n",
       "│                                                                              │\n",
       "│                                                                              │\n",
       "│ To track progress run:                                                       │\n",
       "│                                                                              │\n",
       "│   <span style=\"color: #008000; text-decoration-color: #008000\">coiled.batch.status(1231532)</span>                                               │\n",
       "│                                                                              │\n",
       "╰──────────────────────────────────────────────────────────────────────────────╯\n",
       "</pre>\n"
      ],
      "text/plain": [
       "╭──────────────────────────────── Coiled Batch ────────────────────────────────╮\n",
       "│                                                                              │\n",
       "│ \u001b[1mCommand\u001b[0m:     \u001b[94mscript\u001b[0m                                                          │\n",
       "│ \u001b[1mCluster ID\u001b[0m:  \u001b[94m1231532\u001b[0m                                                         │\n",
       "│ \u001b[1mURL\u001b[0m:         \u001b[94mhttps://cloud.coiled.io/clusters/1231532\u001b[0m                        │\n",
       "│ \u001b[1mTasks\u001b[0m:       \u001b[94m1\u001b[0m                                                               │\n",
       "│                                                                              │\n",
       "│                                                                              │\n",
       "│ To track progress run:                                                       │\n",
       "│                                                                              │\n",
       "│   \u001b[32mcoiled.batch.status(1231532)\u001b[0m                                               │\n",
       "│                                                                              │\n",
       "╰──────────────────────────────────────────────────────────────────────────────╯\n"
      ]
     },
     "metadata": {},
     "output_type": "display_data"
    },
    {
     "data": {
      "text/plain": [
       "{'cluster_id': 1231532, 'cluster_name': 'simple4', 'job_id': 133014}"
      ]
     },
     "execution_count": 35,
     "metadata": {},
     "output_type": "execute_result"
    }
   ],
   "source": [
    "coiled.batch.run(cmd, name=\"simple4\", run_on_host=True, host_setup_script='host.sh', host_setup_script_content=host,\n",
    "                 command_as_script=True,\n",
    "                 buffers_to_upload=[{\"relative_path\": \"src.tar.gz\", \"buffer\": b}]\n",
    "                 )\n"
   ]
  },
  {
   "cell_type": "code",
   "execution_count": null,
   "id": "53a31525",
   "metadata": {},
   "outputs": [],
   "source": []
  }
 ],
 "metadata": {
  "kernelspec": {
   "display_name": "habemus-papadum-coiled",
   "language": "python",
   "name": "python3"
  },
  "language_info": {
   "codemirror_mode": {
    "name": "ipython",
    "version": 3
   },
   "file_extension": ".py",
   "mimetype": "text/x-python",
   "name": "python",
   "nbconvert_exporter": "python",
   "pygments_lexer": "ipython3",
   "version": "3.14.0b3"
  }
 },
 "nbformat": 4,
 "nbformat_minor": 5
}
